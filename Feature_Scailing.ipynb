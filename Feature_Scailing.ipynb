{
  "nbformat": 4,
  "nbformat_minor": 0,
  "metadata": {
    "colab": {
      "provenance": [],
      "authorship_tag": "ABX9TyNBLCjRkJxUu+PrXSniA8dn",
      "include_colab_link": true
    },
    "kernelspec": {
      "name": "python3",
      "display_name": "Python 3"
    },
    "language_info": {
      "name": "python"
    }
  },
  "cells": [
    {
      "cell_type": "markdown",
      "metadata": {
        "id": "view-in-github",
        "colab_type": "text"
      },
      "source": [
        "<a href=\"https://colab.research.google.com/github/sssanghn/Machinelearning-Problem-Solve/blob/main/Feature_Scailing.ipynb\" target=\"_parent\"><img src=\"https://colab.research.google.com/assets/colab-badge.svg\" alt=\"Open In Colab\"/></a>"
      ]
    },
    {
      "cell_type": "markdown",
      "source": [
        "# 피처 스케일링"
      ],
      "metadata": {
        "id": "iPfVTalek2-E"
      }
    },
    {
      "cell_type": "markdown",
      "source": [
        "> 피처 스케일링이란 서로 다른 피처 값의 범위(최댓값 - 최솟값)가 일치하도록 조정하는 작업을 말한다.\n",
        "\n",
        "단, 트리 기반 모델(랜덤 포레스트, XGBoost, LightGBM 등)은 피처 스케일링이 필요 없다.</br>\n",
        "트리 기반 모델은 데이터의 크기보다는 대소 관계에 영향을 받기 때문이다. </br>\n",
        "피처 스케일링을 하더라도 데이터의 대소 관계에는 변함이 없다.\n",
        "\n",
        "> 피처 스케일링에는 다양한 방법이 있으며, 그 중 가장 많이 쓰이는 **min_max 정규화**와 **표준화**를 살펴보자."
      ],
      "metadata": {
        "id": "kkYCrDNOk4Rk"
      }
    },
    {
      "cell_type": "markdown",
      "source": [
        "**min-max 정규화**\n",
        "> min-max 정규화는 피처 값의 범위를 0~1로 조정하는 기법이다. </br>\n",
        "조정 후 최솟값은 0, 최댓값은 1이 된다.\n",
        "$$ X_{scaled} = \\frac{x-x_{min}}{x_{max} - x_{min}} $$\n",
        "\n",
        "min-max 정규화는 사이킷런의 MinMaxScaler로 구현할 수 있다."
      ],
      "metadata": {
        "id": "-Pf9f485mJZq"
      }
    },
    {
      "cell_type": "code",
      "source": [
        "import pandas as pd\n",
        "\n",
        "height_weight_dict = {'키': [1.7, 1.5, 1.8], '몸무게': [75, 55, 60]}\n",
        "df = pd.DataFrame(height_weight_dict, index=['광일', '혜성', '덕수'])\n",
        "\n",
        "print(df)"
      ],
      "metadata": {
        "colab": {
          "base_uri": "https://localhost:8080/"
        },
        "id": "UFXpM-hknMjb",
        "outputId": "44cffdee-ca12-4f0b-b18b-34001d5911ea"
      },
      "execution_count": null,
      "outputs": [
        {
          "output_type": "stream",
          "name": "stdout",
          "text": [
            "      키  몸무게\n",
            "광일  1.7   75\n",
            "혜성  1.5   55\n",
            "덕수  1.8   60\n"
          ]
        }
      ]
    },
    {
      "cell_type": "code",
      "source": [
        "from sklearn.preprocessing import MinMaxScaler\n",
        "\n",
        "# min-max 정규화 객체 생성\n",
        "scaler = MinMaxScaler()\n",
        "\n",
        "# min-max 정규화 적용\n",
        "scaler.fit(df)\n",
        "df_scaled = scaler.transform(df)\n",
        "\n",
        "print(df_scaled)"
      ],
      "metadata": {
        "colab": {
          "base_uri": "https://localhost:8080/"
        },
        "id": "manKPGoJnGw7",
        "outputId": "e568b50b-dfde-47e7-9daa-782a4db9e2a6"
      },
      "execution_count": null,
      "outputs": [
        {
          "output_type": "stream",
          "name": "stdout",
          "text": [
            "[[0.66666667 1.        ]\n",
            " [0.         0.        ]\n",
            " [1.         0.25      ]]\n"
          ]
        }
      ]
    },
    {
      "cell_type": "markdown",
      "source": [
        "> **fit()과 transform() vs. fit_transform()** </br> </br>\n",
        "fit()과 transform()은 fit_transform()으로 한 번에 실행할 수 있다. </br>\n",
        "데이터 하나에만 min-max 정규화를 적용하려면 fit_transform()을 쓰는 게 당연히 더 편리하다. </br>\n",
        "<mark>하지만 한 데이터에 맞춰 놓은 스케일링 범위를 다른 데이터에도 적용하려면 fit()과 transform()을 따로 써야 한다.</mark>\n",
        "\n"
      ],
      "metadata": {
        "id": "UIJmJbzXntGX"
      }
    },
    {
      "cell_type": "markdown",
      "source": [
        "**표준화**\n",
        "> 표준화는 평균이 0, 분산이 1이 되도록 피처 값을 조정하는 기법이다. </br>\n",
        "min-max 정규화와 다르게 표준화는 상한과 하한이 없다.\n",
        "$$ x_{scaled} = \\frac {x-x^̅}{σ}$$"
      ],
      "metadata": {
        "id": "Qwb1KNpIRDHX"
      }
    },
    {
      "cell_type": "code",
      "source": [
        "from sklearn.preprocessing import StandardScaler\n",
        "\n",
        "# StandardScaler 객체 생성\n",
        "scaler = StandardScaler()\n",
        "\n",
        "# 표준화 적용\n",
        "df_scaled = scaler.fit_transform(df)\n",
        "\n",
        "print(df_scaled)"
      ],
      "metadata": {
        "colab": {
          "base_uri": "https://localhost:8080/"
        },
        "id": "LyGJNg8_Shao",
        "outputId": "484aa6c7-e48c-4c31-9142-827bec34e86a"
      },
      "execution_count": 3,
      "outputs": [
        {
          "output_type": "stream",
          "name": "stdout",
          "text": [
            "[[ 0.26726124  1.37281295]\n",
            " [-1.33630621 -0.98058068]\n",
            " [ 1.06904497 -0.39223227]]\n"
          ]
        }
      ]
    }
  ]
}