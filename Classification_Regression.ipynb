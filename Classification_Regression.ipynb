{
  "nbformat": 4,
  "nbformat_minor": 0,
  "metadata": {
    "colab": {
      "provenance": [],
      "authorship_tag": "ABX9TyMB7PzEQ/mC6ORNEtaAPRNd",
      "include_colab_link": true
    },
    "kernelspec": {
      "name": "python3",
      "display_name": "Python 3"
    },
    "language_info": {
      "name": "python"
    }
  },
  "cells": [
    {
      "cell_type": "markdown",
      "metadata": {
        "id": "view-in-github",
        "colab_type": "text"
      },
      "source": [
        "<a href=\"https://colab.research.google.com/github/sssanghn/Machinelearning-Problem-Solve/blob/main/Classification_Regression.ipynb\" target=\"_parent\"><img src=\"https://colab.research.google.com/assets/colab-badge.svg\" alt=\"Open In Colab\"/></a>"
      ]
    },
    {
      "cell_type": "markdown",
      "source": [
        "# 분류와 회귀"
      ],
      "metadata": {
        "id": "BqTMh9ftnPv9"
      }
    },
    {
      "cell_type": "markdown",
      "source": [
        "> 예측하려는 타깃값\n",
        "* 범주형 데이터 => 분류 문제\n",
        "* 수치형 데이터 => 회귀 문제"
      ],
      "metadata": {
        "id": "1lGpB-kKnT-e"
      }
    },
    {
      "cell_type": "markdown",
      "source": [
        "**분류**\n",
        "> 분류란 어떤 대상을 정해진 범주에 구분해 넣는 작업이다. </br>\n",
        "타깃값이 두 개인 분류를 이진분류, 세 개 이상인 분류를 다중분류라고 한다."
      ],
      "metadata": {
        "id": "drK5kI7qnfSY"
      }
    },
    {
      "cell_type": "markdown",
      "source": [
        "**회귀**\n",
        "> 회귀란 독립변수와 종속변수 간 관계를 모델링하는 방법이다. </br>\n",
        "영향을 미치는 변수를 <mark>독립변수</mark>, 영향을 받는 변수를 <mark>종속변수</mark>라고 한다.\n",
        "\n",
        "* 독립변수 하나 => 단순 선형 회귀 </br>\n",
        "* 독립변수 여러 개 => 다중 선형 회귀\n",
        "\n",
        "> 회귀 문제에서는 주어진 독립변수와 종속변수 사이의 관계를 기반으로 최적의 회귀계수를 찾아내야 한다. </br>\n",
        "최적 회귀계수를 구하려면 오차를 최소화해야 한다.\n"
      ],
      "metadata": {
        "id": "Rb86n-iZnsCl"
      }
    },
    {
      "cell_type": "markdown",
      "source": [
        "**회귀 평가지표**\n",
        "> 회귀 평가지표 값이 <mark>작을수록</mark> 모델 성능이 좋다. </br>\n",
        "단, <mark>R^2 결정계수는</mark> 다른 지표와 다르게 <mark>1에 가까울수록</mark> 모델 성능이 좋다. </br>\n",
        "* MAE => 평균 절대 오차\n",
        "* MSE => 평균 제곱 오차\n",
        "* RMSE => 평균 제곱근 오차\n",
        "* MSLE => MSE에서 타깃값에 로그를 취한 값\n",
        "* RMSLE => MSLE에 제곱근을 취한 값\n",
        "* R^2 결정계수 => 예측 타깃값의 분산 / 실제 타깃값의 분산\n",
        "\n",
        "> MSLE와 RMSLE에서 log(y)가 아니라 log(y+1)을 사용한다. </br>\n",
        "y에 1을 더한 이유는 로그값이 음의 무한대가 되는 상황을 방지하기 위해서이다."
      ],
      "metadata": {
        "id": "YUWAzakAotIg"
      }
    },
    {
      "cell_type": "code",
      "source": [
        "import numpy as np\n",
        "\n",
        "# MAE, MSE, MSLE, R2 임포트\n",
        "from sklearn.metrics import mean_absolute_error, mean_squared_error, mean_squared_log_error, r2_score\n",
        "\n",
        "true = np.array([1, 2, 3, 2, 3, 5, 4, 6, 5, 6, 7, 8, 8]) # 실젯값\n",
        "preds = np.array([1, 1, 2, 2, 3, 4, 4, 5, 5, 7, 7, 6, 8]) # 예측값\n",
        "\n",
        "MAE = mean_absolute_error(true, preds)\n",
        "MSE = mean_squared_error(true, preds)\n",
        "RMSE = np.sqrt(MSE)\n",
        "MSLE = mean_squared_log_error(true, preds)\n",
        "RMSLE = np.sqrt(MSLE)\n",
        "R2 = r2_score(true, preds)\n",
        "\n",
        "# 출력\n",
        "print(f\"MAE:\\t {MAE:.4f}\")\n",
        "print(f\"MSE:\\t {MSE:.4f}\")\n",
        "print(f\"RMSE:\\t {RMSE:.4f}\")\n",
        "print(f\"MSLE:\\t {MSLE:.4f}\")\n",
        "print(f\"RMSLE:\\t {RMSLE:.4f}\")\n",
        "print(f\"R2:\\t {R2:.4f}\")"
      ],
      "metadata": {
        "colab": {
          "base_uri": "https://localhost:8080/"
        },
        "id": "sbteuP2Lpz-D",
        "outputId": "dd6d2366-2b24-47e8-f40f-9d355078676c"
      },
      "execution_count": null,
      "outputs": [
        {
          "output_type": "stream",
          "name": "stdout",
          "text": [
            "MAE:\t 0.5385\n",
            "MSE:\t 0.6923\n",
            "RMSE:\t 0.8321\n",
            "MSLE:\t 0.0296\n",
            "RMSLE:\t 0.1721\n",
            "R2:\t 0.8617\n"
          ]
        }
      ]
    },
    {
      "cell_type": "markdown",
      "source": [
        "**상관계수**\n",
        "> 두 변수 사이의 상관관계 정도를 수치로 나타낸 값을 상관계수라 한다. </br>\n",
        "가장 많이 쓰는 선형 회귀 상관계수는 <mark>피어슨 상관계수</mark>이다. </br>\n",
        "* 피어슨 상관계수는 선형 상관관계의 강도와 방향을 나타내며, -1부터 1 사이의 값을 갖는다."
      ],
      "metadata": {
        "id": "AKhR3uabs-d3"
      }
    },
    {
      "cell_type": "markdown",
      "source": [
        "# 분류 평가지표"
      ],
      "metadata": {
        "id": "Pw00Ht30e5ui"
      }
    },
    {
      "cell_type": "markdown",
      "source": [
        "> 분류 평가 문제에서 사용하는 평가지표를 알아보자. </br>\n",
        "분류 평가지표에는 오차 행렬, 로그 손실, ROC 곡선과 AUC가 있다.\n",
        "\n"
      ],
      "metadata": {
        "id": "daEo9knyfAiI"
      }
    },
    {
      "cell_type": "markdown",
      "source": [
        "**오차 행렬**\n",
        "> 오차 행렬은 실제 타깃값과 예측한 타깃값이 어떻게 매칭되는지를 보여주는 표이다. </br>\n",
        "혼동 행렬이라고도 한다. </br>\n",
        "참 양성, 거짓 양성, 거짓 음성, 참 음성을 각각 TP, FP, FN, TN으로 표시한다. </br>\n",
        "오차 행렬을 활용한 주요 평가지표로는 <mark>정확도, 정밀도, 재현율, F1 점수</mark>가 있다.\n",
        "\n"
      ],
      "metadata": {
        "id": "EewjD8o6fUBI"
      }
    },
    {
      "cell_type": "markdown",
      "source": [
        "**정확도**\n",
        "> 정확도는 실젯값과 예측값이 얼마나 일치되는지를 비율로 나타낸 평가지표이다.\n",
        "$$ \\frac{TP + TN}{TP + FP + FN + TN} $$\n",
        "\n",
        "*평가지표로 정확도를 사용하는 경우는 많지 않다.* </br>\n",
        "*왜냐하면 10일 중 1일 꼴로 비가 온다고 가정해보면, 매일 비가 안 온다고 예측해도 정확도는 90%이기 때문이다.*"
      ],
      "metadata": {
        "id": "hyJ8WC1Hfv3i"
      }
    },
    {
      "cell_type": "markdown",
      "source": [
        "**정밀도(precision)**\n",
        "> 정밀도는 양성 예측의 정확도를 의미한다. </br>\n",
        "$$ \\frac{TP}{TP + FP} $$\n",
        "\n",
        "*정밀도는 음성을 양성으로 잘못 판단하면 문제가 발생하는 경우에 사용한다.*"
      ],
      "metadata": {
        "id": "n9--H1ZHgiXI"
      }
    },
    {
      "cell_type": "markdown",
      "source": [
        "**재현율(recall)**\n",
        "> 재현율은 실제 양성 값(TP + FN) 중 양성으로 잘 예측한 값(TP)의 비율이다. </br>\n",
        "민감도 또는 참 양성 비율이라고도 한다.\n",
        "$$ \\frac{TP}{TP + FN} $$\n",
        "\n",
        "*재현율은 양성을 음성으로 잘못 판단하면 문제가 되는 경우에 사용한다.*"
      ],
      "metadata": {
        "id": "G7DVfoWChDAB"
      }
    },
    {
      "cell_type": "markdown",
      "source": [
        "**F1 점수**\n",
        "> F1 점수는 정밀도와 재현율의 조화 평균으로 구한다. </br>\n",
        "$$ F1 = \\frac{2}{\\frac{1}{precision}+\\frac{1}{recall}} $$"
      ],
      "metadata": {
        "id": "F9rd9lh3iyFL"
      }
    },
    {
      "cell_type": "markdown",
      "source": [
        "**로그 손실**\n",
        "> 로그 손실은 분류 문제에서 타깃값을 확률로 예측할 때 기본적으로 사용하는 평가지표이다. </br>\n",
        "값이 작을수록 좋은 지표이다.\n",
        "$$ logloss = -\\frac {1}{N}∑(yᵢlog(y\\hatᵢ)+(1-yᵢ)log(1-y\\hatᵢ)) $$\n",
        "\n"
      ],
      "metadata": {
        "id": "MStX2SXjkdRM"
      }
    },
    {
      "cell_type": "markdown",
      "source": [
        "**ROC 곡선과 AUC**\n",
        "> ROC 곡선은 <mark>참 양성 비율에 대한 거짓 양성 비율 곡선</mark>이다. </br>\n",
        "AUC는 ROC 곡선 아래 면적을 말한다.\n",
        "* 타깃값(이산값)으로 예측 시 분류 평가지표 : 정확도, 정밀도, 재현율, F1 점수\n",
        "* 타깃 확률로 예측 시 분류 평가지표 : 로그 손실, AUC\n",
        "\n",
        "> 참 양성 비율은 양성을 얼마나 정확히 예측하는지 나타내는 지표이다. 재현율과 같은 개념이다. 민감도라고도 한다.\n",
        "$$\\frac{TP}{TP + FN}$$\n",
        "</br>\n",
        "참 음성 비율은 음성을 얼마나 정확히 예측하는지 나타내는 지표이다. 특이도라고도 한다.\n",
        "$$\\frac{TN}{FP + TN}$$\n",
        "</br>\n",
        "거짓 양성 비율은 1 - 참 음성 비율이다. 즉, 1 - 특이도이다.\n",
        "</br>\n",
        "**ROC 곡선은 달리 말하면 민감도에 대한 (1 - 특이도) 곡선이다.**\n",
        "\n",
        "ROC 곡선은 가운데 점선과 가까울수록 모델 성능이 떨어지며, 위쪽으로 멀어질수록 성능이 좋다.\n",
        "</br>\n",
        "100% 완벽하게 분류하면 AUC가 1이고, 완전 무작위로 분류하면 0.5이다. 모델 성능이 좋을수록 AUC가 크다.\n",
        "</br>\n",
        "ROC AUC는 캐글에서 종종 사용하는 평가지표이다."
      ],
      "metadata": {
        "id": "8ugSgBWDluxF"
      }
    }
  ]
}