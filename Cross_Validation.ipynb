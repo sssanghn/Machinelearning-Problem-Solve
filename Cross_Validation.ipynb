{
  "nbformat": 4,
  "nbformat_minor": 0,
  "metadata": {
    "colab": {
      "provenance": [],
      "authorship_tag": "ABX9TyMLl6oo4MgcPUgkDHfEwnLK",
      "include_colab_link": true
    },
    "kernelspec": {
      "name": "python3",
      "display_name": "Python 3"
    },
    "language_info": {
      "name": "python"
    }
  },
  "cells": [
    {
      "cell_type": "markdown",
      "metadata": {
        "id": "view-in-github",
        "colab_type": "text"
      },
      "source": [
        "<a href=\"https://colab.research.google.com/github/sssanghn/Machinelearning-Problem-Solve/blob/main/Cross_Validation.ipynb\" target=\"_parent\"><img src=\"https://colab.research.google.com/assets/colab-badge.svg\" alt=\"Open In Colab\"/></a>"
      ]
    },
    {
      "cell_type": "markdown",
      "source": [
        "# 교차 검증\n",
        "> 교차 검증은 훈련 데이터를 여러 그룹으로 나누어 일부는 훈련 시 사용하고, 일부는 검증 시 사용해서 모델 성능을 측정하는 기법이다. </br>\n",
        "\n",
        "모델을 훈련만 하고, 성능을 검증해 보지 않으면 두 가지 문제가 발생할 수 있다. </br>\n",
        "* 첫째, 모델이 과대적합될 가능성이 있다.\n",
        "* 둘째, 제출 전까지 모델 성능을 확인하기 어렵다.\n",
        "\n",
        "> 이상의 두 문제를 개선하기 위한 방법이 교차 검증이다. </br>\n",
        "가장 일반적인 교차 검증 기법은 K 폴드 교차 검증이다."
      ],
      "metadata": {
        "id": "7P2c1R_4XjpU"
      }
    },
    {
      "cell_type": "markdown",
      "source": [
        "**K 폴드 교차 검증**\n",
        "> K 폴드 교차 검증 절차는 다음과 같다. </br>\n",
        "1. 전체 훈련 데이터를 K개 그룹으로 나눈다.\n",
        "2. 그룹 하나는 검증 데이터로, 나머지 K-1개는 훈련 데이터로 지정한다.\n",
        "3. 훈련 데이터로 모델을 훈련하고, 검증 데이터로 평가한다.\n",
        "4. 평가 점수를 기록한다.\n",
        "5. 검증 데이터를 다른 그룹으로 바꿔가며 2~4번 절차를 K번 반복한다.\n",
        "6. K개 검증 평가 점수의 평균을 구한다.\n",
        "\n",
        "K개 검증 평가점수의 평균이 최종 평가점수이다."
      ],
      "metadata": {
        "id": "8zRJ38VqYMgM"
      }
    },
    {
      "cell_type": "code",
      "source": [
        "import numpy as np\n",
        "from sklearn.model_selection import KFold\n",
        "\n",
        "data = np.array([0, 1, 2, 3, 4, 5, 6, 7, 8, 9])\n",
        "\n",
        "folds = KFold(n_splits=5, shuffle=True)\n",
        "\n",
        "for train_idx, valid_idx in folds.split(data):\n",
        "    print(f'훈련 데이터: {data[train_idx]}, 검증 데이터: {data[valid_idx]}')"
      ],
      "metadata": {
        "colab": {
          "base_uri": "https://localhost:8080/"
        },
        "id": "hoKCAAPDZJRR",
        "outputId": "d2749827-2d5e-49fc-d231-8b33a2f39cb5"
      },
      "execution_count": 1,
      "outputs": [
        {
          "output_type": "stream",
          "name": "stdout",
          "text": [
            "훈련 데이터: [0 1 2 5 6 7 8 9], 검증 데이터: [3 4]\n",
            "훈련 데이터: [0 2 3 4 6 7 8 9], 검증 데이터: [1 5]\n",
            "훈련 데이터: [1 2 3 4 5 6 8 9], 검증 데이터: [0 7]\n",
            "훈련 데이터: [0 1 2 3 4 5 6 7], 검증 데이터: [8 9]\n",
            "훈련 데이터: [0 1 3 4 5 7 8 9], 검증 데이터: [2 6]\n"
          ]
        }
      ]
    },
    {
      "cell_type": "markdown",
      "source": [
        "> 데이터가 편향되게 분포되어 있을 수도 있어서 폴드로 나누기 전에 데이터를 섞어주는 게 좋다. </br>\n",
        "위와 같이 <mark>shuffle 파라미터에 True</mark>를 전달하면 된다."
      ],
      "metadata": {
        "id": "bynKSaKTab8X"
      }
    },
    {
      "cell_type": "markdown",
      "source": [
        "**층화 K 폴드 교차 검증**\n",
        "> 층화 K 폴드 교차 검증은 타깃값이 골고루 분포되게 폴드를 나누는 K 폴드 교차 검증 방법이다. </br>\n",
        "tip! stratify는 사회학에서 '수평적 지위 집단으로 나눈다'라는 의미이다.\n",
        "\n",
        "일반 메일과 스팸 메일을 분류하는 문제를 생각해보자. 받은 메일이 1,000개인데, 그중 스팸은 단 10개라고 가정해보자. </br>\n",
        "스팸이 10개밖에 안되므로 K 폴드 교차 검증을 해도 특정 폴드에는 스팸이 아예 없을 수 있다. </br>\n",
        "스팸 데이터 없이 모델을 훈련하면 스팸 예측을 제대로 못할 것이다.\n",
        "\n",
        "> <mark>이처럼 특정 타깃값이 다른 타깃값보다 굉장히 적은 경우에 주로 층화 K 폴드 교차 검증을 사용한다.</mark> </br>\n",
        "** 참고로 층화 K 폴드 교차 검증은 분류 문제에만 쓰인다. </br>\n",
        "회귀 문제의 타깃값은 연속된 값이라서 폴드마다 균등한 비율로 나누는 게 불가능하다. </br>\n",
        "균등한 비율로 나누기 위해서는 타깃값이 유한해야 하기 때문이다."
      ],
      "metadata": {
        "id": "7bukHR9Ga5P6"
      }
    },
    {
      "cell_type": "code",
      "source": [
        "y = np.array(['스팸'] * 5 + ['일반'] * 45)\n",
        "\n",
        "folds = KFold(n_splits=5, shuffle=True)\n",
        "\n",
        "for idx, (train_idx, valid_idx) in enumerate(folds.split(y)):\n",
        "    print(f'Fold {idx + 1} 검증 데이터 타깃값:')\n",
        "    print(y[valid_idx], '\\n')"
      ],
      "metadata": {
        "colab": {
          "base_uri": "https://localhost:8080/"
        },
        "id": "DAmKkHTVcMuh",
        "outputId": "d9fb376e-3cad-4505-de49-cf7e6f664cfe"
      },
      "execution_count": 3,
      "outputs": [
        {
          "output_type": "stream",
          "name": "stdout",
          "text": [
            "Fold 1 검증 데이터 타깃값:\n",
            "['스팸' '스팸' '일반' '일반' '일반' '일반' '일반' '일반' '일반' '일반'] \n",
            "\n",
            "Fold 2 검증 데이터 타깃값:\n",
            "['스팸' '일반' '일반' '일반' '일반' '일반' '일반' '일반' '일반' '일반'] \n",
            "\n",
            "Fold 3 검증 데이터 타깃값:\n",
            "['스팸' '일반' '일반' '일반' '일반' '일반' '일반' '일반' '일반' '일반'] \n",
            "\n",
            "Fold 4 검증 데이터 타깃값:\n",
            "['일반' '일반' '일반' '일반' '일반' '일반' '일반' '일반' '일반' '일반'] \n",
            "\n",
            "Fold 5 검증 데이터 타깃값:\n",
            "['스팸' '일반' '일반' '일반' '일반' '일반' '일반' '일반' '일반' '일반'] \n",
            "\n"
          ]
        }
      ]
    },
    {
      "cell_type": "markdown",
      "source": [
        "결과를 보자. </br>\n",
        "두 번째, 세 번째, 다섯 번째 폴드에서는 10개 중 1개만 스팸이다. </br>\n",
        "하지만 첫 번째 폴드에는 스팸이 2개고, 네 번째 폴드에선 스팸이 하나도 없다. </br>\n",
        "폴드마다 스팸 분포가 다르다. 특히 네 번째 폴드에선 스팸 메일에 대한 훈련이 아예 안 된다. </br>\n",
        "모든 폴드에 스팸 데이터가 고루 있으면 좋다. 이럴 때 층화 K 폴드를 쓰면 된다."
      ],
      "metadata": {
        "id": "TXGjzLY7eCaS"
      }
    },
    {
      "cell_type": "code",
      "source": [
        "from sklearn.model_selection import StratifiedKFold\n",
        "\n",
        "X = np.array(range(50))\n",
        "y = np.array(['스팸'] * 5 + ['일반'] * 45)\n",
        "\n",
        "folds = StratifiedKFold(n_splits=5, shuffle=True) # '층화' K 폴드 교차 검증\n",
        "\n",
        "for idx, (train_idx, valid_idx) in enumerate(folds.split(X, y)):\n",
        "    print(f'Fold {idx + 1} 검증 데이터 타깃값:')\n",
        "    print(y[valid_idx], '\\n')"
      ],
      "metadata": {
        "colab": {
          "base_uri": "https://localhost:8080/"
        },
        "id": "zIFm47YHeuDb",
        "outputId": "76b1e574-4379-4a33-bc47-bfd38619e8ab"
      },
      "execution_count": 4,
      "outputs": [
        {
          "output_type": "stream",
          "name": "stdout",
          "text": [
            "Fold 1 검증 데이터 타깃값:\n",
            "['스팸' '일반' '일반' '일반' '일반' '일반' '일반' '일반' '일반' '일반'] \n",
            "\n",
            "Fold 2 검증 데이터 타깃값:\n",
            "['스팸' '일반' '일반' '일반' '일반' '일반' '일반' '일반' '일반' '일반'] \n",
            "\n",
            "Fold 3 검증 데이터 타깃값:\n",
            "['스팸' '일반' '일반' '일반' '일반' '일반' '일반' '일반' '일반' '일반'] \n",
            "\n",
            "Fold 4 검증 데이터 타깃값:\n",
            "['스팸' '일반' '일반' '일반' '일반' '일반' '일반' '일반' '일반' '일반'] \n",
            "\n",
            "Fold 5 검증 데이터 타깃값:\n",
            "['스팸' '일반' '일반' '일반' '일반' '일반' '일반' '일반' '일반' '일반'] \n",
            "\n"
          ]
        }
      ]
    },
    {
      "cell_type": "markdown",
      "source": [
        "> KFold의 split()에는 데이터 하나만 전달해도 된다. 데이터 불균형 여부와 상관없이 임의로 K개로 분할하기 때문이다. </br>\n",
        "반면, StratifiedKFold의 split() 함수에는 피처와 타깃값 모두를 전달해야 한다."
      ],
      "metadata": {
        "id": "qtZCFEtBgiV-"
      }
    }
  ]
}